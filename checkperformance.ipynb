{
 "cells": [
  {
   "cell_type": "markdown",
   "metadata": {},
   "source": [
    "### Downloading the models"
   ]
  },
  {
   "cell_type": "code",
   "execution_count": 1,
   "metadata": {},
   "outputs": [
    {
     "data": {
      "text/plain": [
       "'/usr/local/lib/python3.6/dist-packages/qarpo/__init__.py'"
      ]
     },
     "execution_count": 1,
     "metadata": {},
     "output_type": "execute_result"
    }
   ],
   "source": [
    "import qarpo\n",
    "qarpo.__file__"
   ]
  },
  {
   "cell_type": "code",
   "execution_count": 2,
   "metadata": {},
   "outputs": [],
   "source": [
    "#Import your dependencies here\n",
    "import os\n",
    "#Some dependencies have been imported for you\n",
    "#You can find demoTools in `~/Reference-samples/iot-devcloud`\n",
    "from IPython.display import HTML\n",
    "from qarpo.demoutils import *\n",
    "# from demoTools import demoutils"
   ]
  },
  {
   "cell_type": "code",
   "execution_count": 3,
   "metadata": {},
   "outputs": [
    {
     "name": "stdout",
     "output_type": "stream",
     "text": [
      "################|| Downloading models ||################\n",
      "\n",
      "========== Downloading /home/u38624/project3/intel/face-detection-adas-binary-0001/FP32-INT1/face-detection-adas-binary-0001.xml\n",
      "... 100%, 113 KB, 1040 KB/s, 0 seconds passed\n",
      "\n",
      "========== Downloading /home/u38624/project3/intel/face-detection-adas-binary-0001/FP32-INT1/face-detection-adas-binary-0001.bin\n",
      "... 100%, 1797 KB, 9251 KB/s, 0 seconds passed\n",
      "\n",
      "################|| Post-processing ||################\n",
      "\n"
     ]
    }
   ],
   "source": [
    "!python3 /opt/intel/openvino/deployment_tools/tools/model_downloader/downloader.py --name face-detection-adas-binary-0001"
   ]
  },
  {
   "cell_type": "code",
   "execution_count": 4,
   "metadata": {},
   "outputs": [
    {
     "name": "stdout",
     "output_type": "stream",
     "text": [
      "################|| Downloading models ||################\n",
      "\n",
      "========== Downloading /home/u38624/project3/intel/head-pose-estimation-adas-0001/FP32/head-pose-estimation-adas-0001.xml\n",
      "... 100%, 49 KB, 976 KB/s, 0 seconds passed\n",
      "\n",
      "========== Downloading /home/u38624/project3/intel/head-pose-estimation-adas-0001/FP32/head-pose-estimation-adas-0001.bin\n",
      "... 100%, 7468 KB, 4947 KB/s, 1 seconds passed\n",
      "\n",
      "========== Downloading /home/u38624/project3/intel/head-pose-estimation-adas-0001/FP16/head-pose-estimation-adas-0001.xml\n",
      "... 100%, 49 KB, 939 KB/s, 0 seconds passed\n",
      "\n",
      "========== Downloading /home/u38624/project3/intel/head-pose-estimation-adas-0001/FP16/head-pose-estimation-adas-0001.bin\n",
      "... 100%, 3734 KB, 8610 KB/s, 0 seconds passed\n",
      "\n",
      "========== Downloading /home/u38624/project3/intel/head-pose-estimation-adas-0001/FP32-INT8/head-pose-estimation-adas-0001.xml\n",
      "... 100%, 79 KB, 1716 KB/s, 0 seconds passed\n",
      "\n",
      "========== Downloading /home/u38624/project3/intel/head-pose-estimation-adas-0001/FP32-INT8/head-pose-estimation-adas-0001.bin\n",
      "... 100%, 7478 KB, 10156 KB/s, 0 seconds passed\n",
      "\n",
      "################|| Post-processing ||################\n",
      "\n"
     ]
    }
   ],
   "source": [
    "!python3 /opt/intel/openvino/deployment_tools/tools/model_downloader/downloader.py --name head-pose-estimation-adas-0001"
   ]
  },
  {
   "cell_type": "code",
   "execution_count": 5,
   "metadata": {},
   "outputs": [
    {
     "name": "stdout",
     "output_type": "stream",
     "text": [
      "################|| Downloading models ||################\n",
      "\n",
      "========== Downloading /home/u38624/project3/intel/landmarks-regression-retail-0009/FP32/landmarks-regression-retail-0009.xml\n",
      "... 100%, 41 KB, 922 KB/s, 0 seconds passed\n",
      "\n",
      "========== Downloading /home/u38624/project3/intel/landmarks-regression-retail-0009/FP32/landmarks-regression-retail-0009.bin\n",
      "... 100%, 744 KB, 4638 KB/s, 0 seconds passed\n",
      "\n",
      "========== Downloading /home/u38624/project3/intel/landmarks-regression-retail-0009/FP16/landmarks-regression-retail-0009.xml\n",
      "... 100%, 41 KB, 819 KB/s, 0 seconds passed\n",
      "\n",
      "========== Downloading /home/u38624/project3/intel/landmarks-regression-retail-0009/FP16/landmarks-regression-retail-0009.bin\n",
      "... 100%, 372 KB, 20848 KB/s, 0 seconds passed\n",
      "\n",
      "========== Downloading /home/u38624/project3/intel/landmarks-regression-retail-0009/FP32-INT8/landmarks-regression-retail-0009.xml\n",
      "... 100%, 76 KB, 1499 KB/s, 0 seconds passedd\n",
      "\n",
      "========== Downloading /home/u38624/project3/intel/landmarks-regression-retail-0009/FP32-INT8/landmarks-regression-retail-0009.bin\n",
      "... 100%, 749 KB, 12470 KB/s, 0 seconds passed\n",
      "\n",
      "################|| Post-processing ||################\n",
      "\n"
     ]
    }
   ],
   "source": [
    "!python3 /opt/intel/openvino/deployment_tools/tools/model_downloader/downloader.py --name landmarks-regression-retail-0009"
   ]
  },
  {
   "cell_type": "code",
   "execution_count": 6,
   "metadata": {},
   "outputs": [
    {
     "name": "stdout",
     "output_type": "stream",
     "text": [
      "################|| Downloading models ||################\n",
      "\n",
      "========== Downloading /home/u38624/project3/intel/gaze-estimation-adas-0002/FP32/gaze-estimation-adas-0002.xml\n",
      "... 100%, 62 KB, 1098 KB/s, 0 seconds passed\n",
      "\n",
      "========== Downloading /home/u38624/project3/intel/gaze-estimation-adas-0002/FP32/gaze-estimation-adas-0002.bin\n",
      "... 100%, 7352 KB, 14493 KB/s, 0 seconds passed\n",
      "\n",
      "========== Downloading /home/u38624/project3/intel/gaze-estimation-adas-0002/FP16/gaze-estimation-adas-0002.xml\n",
      "... 100%, 62 KB, 1164 KB/s, 0 seconds passed\n",
      "\n",
      "========== Downloading /home/u38624/project3/intel/gaze-estimation-adas-0002/FP16/gaze-estimation-adas-0002.bin\n",
      "... 100%, 3676 KB, 18775 KB/s, 0 seconds passed\n",
      "\n",
      "========== Downloading /home/u38624/project3/intel/gaze-estimation-adas-0002/FP32-INT8/gaze-estimation-adas-0002.xml\n",
      "... 100%, 139 KB, 1237 KB/s, 0 seconds passed\n",
      "\n",
      "========== Downloading /home/u38624/project3/intel/gaze-estimation-adas-0002/FP32-INT8/gaze-estimation-adas-0002.bin\n",
      "... 100%, 7365 KB, 18383 KB/s, 0 seconds passed\n",
      "\n",
      "################|| Post-processing ||################\n",
      "\n"
     ]
    }
   ],
   "source": [
    "!python3 /opt/intel/openvino/deployment_tools/tools/model_downloader/downloader.py --name gaze-estimation-adas-0002"
   ]
  },
  {
   "cell_type": "markdown",
   "metadata": {},
   "source": [
    "## Step 2 : Inference on a video\n",
    "\n",
    "\n",
    "The Python code should take in command line arguments for video, model etc.\n",
    "\n",
    "While the type of command line options is up to you, the command below is an example \n",
    "\n",
    "```\n",
    "python3 main.py --fm ${FACEMODEL_PATH} \\\n",
    "                --pm ${POSEMODEL_PATH} \\\n",
    "                --lm ${LANDMARKSMODEL_PATH} \\\n",
    "                --gm ${GAZEMODEL_PATH} \\                \n",
    "                -i ${INPUT_FILE} \\\n",
    "                -o ${OUTPUT_FILE} \\\n",
    "                -d ${DEVICE} \\\n",
    "                -pt ${THRESHOLD}\\\n",
    "                -l /opt/intel/openvino/deployment_tools/inference_engine/lib/intel64/libcpu_extension_sse4.so\n",
    "\n",
    "```\n",
    "\n",
    "##### The description of the arguments used in the argument parser is the command line executable equivalent.\n",
    "* -fm The location of the IR of the face detection model \n",
    "* -pm The location of the IR of the Pose estimation model \n",
    "* -lm The location of the IR of the Landmarks detection model \n",
    "* -gm The location of the IR of the Gaze estimation model \n",
    "* -i  location of the input video stream\n",
    "* -o location where the output file with inference needs to be stored (results/[device])\n",
    "* -d type of Hardware Acceleration (CPU, GPU, MYRIAD, HDDL or HETERO:FPGA,CPU)\n",
    "* -pt probability threshold value for the person detection\n",
    "* -l absolute path to the shared library (or cpu extensions) and is currently optimized for core/xeon (/opt/intel/openvino/deployment_tools/inference_engine/lib/intel64/libcpu_extension_sse4.so)"
   ]
  },
  {
   "cell_type": "markdown",
   "metadata": {},
   "source": [
    "## The job file"
   ]
  },
  {
   "cell_type": "code",
   "execution_count": 3,
   "metadata": {},
   "outputs": [],
   "source": [
    "os.environ[\"VIDEO\"] = \"bin/demo.mp4\"\n",
    "!ln -sf ./bin/demo.mp4"
   ]
  },
  {
   "cell_type": "code",
   "execution_count": 4,
   "metadata": {},
   "outputs": [],
   "source": [
    "# videoHTML('People Counter Video', ['demo.mp4'])"
   ]
  },
  {
   "cell_type": "code",
   "execution_count": 5,
   "metadata": {},
   "outputs": [
    {
     "name": "stdout",
     "output_type": "stream",
     "text": [
      "Overwriting gaze_estimation_job.sh\n"
     ]
    }
   ],
   "source": [
    "%%writefile gaze_estimation_job.sh\n",
    "\n",
    "# TODO: Finish the rest of the script\n",
    "#The default path for the job is your home directory, so we change directory to where the files are.\n",
    "cd $PBS_O_WORKDIR\n",
    "\n",
    "#people_counter script writes output to a file inside a directory. We make sure that this directory exists.\n",
    "#The output directory is the first argument of the bash script\n",
    "mkdir -p $1\n",
    "OUTPUT_FILE=$1\n",
    "DEVICE=$2\n",
    "FP_MODEL=$3\n",
    "INPUT_FILE=$4\n",
    "THRESHOLD=$5\n",
    "\n",
    "if [ \"$DEVICE\" = \"HETERO:FPGA,CPU\" ]; then\n",
    "    # Environment variables and compilation for edge compute nodes with FPGAs - Updated for OpenVINO 2020.1\n",
    "    source /opt/altera/aocl-pro-rte/aclrte-linux64/init_opencl.sh\n",
    "    export LD_LIBRARY_PATH=${LD_LIBRARY_PATH}:/opt/intel/openvino/bitstreams/a10_vision_design_sg1_bitstreams/BSP/a10_1150_sg1/linux64/lib\n",
    "    aocl program acl0 /opt/intel/openvino/bitstreams/a10_vision_design_sg1_bitstreams/2019R4_PL1_FP11_YoloV3_ELU.aocx\n",
    "    export CL_CONTEXT_COMPILER_MODE_INTELFPGA=3\n",
    "fi\n",
    "\n",
    "SAMPLEPATH=${PBS_O_WORKDIR}\n",
    "if [ \"$FP_MODEL\" = \"FP32\" ]; then\n",
    "    FACEMODELPATH=${SAMPLEPATH}/intel/face-detection-adas-binary-0001/FP32-INT1/face-detection-adas-binary-0001.xml\n",
    "    POSEMODELPATH=${SAMPLEPATH}/intel/head-pose-estimation-adas-0001/FP32/head-pose-estimation-adas-0001.xml\n",
    "    LANDMARKSMODELPATH=${SAMPLEPATH}/intel/landmarks-regression-retail-0009/FP32/landmarks-regression-retail-0009.xml    \n",
    "    GAZEMODELPATH=${SAMPLEPATH}/intel/gaze-estimation-adas-0002/FP32/gaze-estimation-adas-0002.xml        \n",
    "else\n",
    "    FACEMODELPATH=${SAMPLEPATH}/intel/face-detection-adas-binary-0001/FP32-INT1/face-detection-adas-binary-0001.xml\n",
    "    POSEMODELPATH=${SAMPLEPATH}/intel/head-pose-estimation-adas-0001/FP16/head-pose-estimation-adas-0001.xml\n",
    "    LANDMARKSMODELPATH=${SAMPLEPATH}/intel/landmarks-regression-retail-0009/FP16/landmarks-regression-retail-0009.xml    \n",
    "    GAZEMODELPATH=${SAMPLEPATH}/intel/gaze-estimation-adas-0002/FP16/gaze-estimation-adas-0002.xml        \n",
    "fi\n",
    "\n",
    "#Running the people counter code\n",
    "python3 src/main-inteldev.py  -fm ${FACEMODELPATH} \\\n",
    "                          -pm ${POSEMODELPATH} \\\n",
    "                          -lm ${LANDMARKSMODELPATH} \\\n",
    "                          -gm ${GAZEMODELPATH} \\\n",
    "                          -i ${INPUT_FILE} \\\n",
    "                          -o ${OUTPUT_FILE} \\\n",
    "                          -d ${DEVICE} \\\n",
    "                          -c ${THRESHOLD}"
   ]
  },
  {
   "cell_type": "markdown",
   "metadata": {},
   "source": [
    "#### Submitting to an edge compute node with an Intel® CPU\n",
    "In the cell below, write a script to submit a job to an <a \n",
    "    href=\"https://software.intel.com/en-us/iot/hardware/iei-tank-dev-kit-core\">IEI \n",
    "    Tank* 870-Q170</a> edge node with an <a \n",
    "    href=\"https://ark.intel.com/products/88186/Intel-Core-i5-6500TE-Processor-6M-Cache-up-to-3-30-GHz-\">Intel® Core™ i5-6500TE processor</a>. The inference workload will run on the CPU."
   ]
  },
  {
   "cell_type": "code",
   "execution_count": 6,
   "metadata": {},
   "outputs": [
    {
     "name": "stdout",
     "output_type": "stream",
     "text": [
      "5628.v-qsvr-1.devcloud-edge\n"
     ]
    },
    {
     "data": {
      "application/vnd.jupyter.widget-view+json": {
       "model_id": "c5450c0435894533a383023930cf1213",
       "version_major": 2,
       "version_minor": 0
      },
      "text/plain": [
       "HBox(children=(FloatProgress(value=0.0, bar_style='info', description='Inference', style=ProgressStyle(descrip…"
      ]
     },
     "metadata": {},
     "output_type": "display_data"
    }
   ],
   "source": [
    "#Submit job to the queue\n",
    "job_id_core = !qsub gaze_estimation_job.sh -l nodes=1:tank-870:i5-6500te -F \"results/core/ CPU FP32 $VIDEO 0.5\" -N gaze_est_core\n",
    "print(job_id_core[0]) \n",
    "#Progress indicators\n",
    "if job_id_core:\n",
    "    progressIndicator('results/core/', 'i_progress_'+job_id_core[0]+'.txt', \"Inference\", 0, 100)"
   ]
  },
  {
   "cell_type": "markdown",
   "metadata": {},
   "source": [
    "#### Submitting to an edge compute node with Intel® Core CPU and using the onboard Intel® GPU\n",
    "In the cell below, write a script to submit a job to an <a \n",
    "    href=\"https://software.intel.com/en-us/iot/hardware/iei-tank-dev-kit-core\">IEI \n",
    "    Tank* 870-Q170</a> edge node with an <a href=\"https://ark.intel.com/products/88186/Intel-Core-i5-6500TE-Processor-6M-Cache-up-to-3-30-GHz-\">Intel® Core i5-6500TE</a>. The inference workload will run on the Intel® HD Graphics 530 card integrated with the CPU."
   ]
  },
  {
   "cell_type": "code",
   "execution_count": 7,
   "metadata": {},
   "outputs": [
    {
     "name": "stdout",
     "output_type": "stream",
     "text": [
      "5629.v-qsvr-1.devcloud-edge\n"
     ]
    },
    {
     "data": {
      "application/vnd.jupyter.widget-view+json": {
       "model_id": "f27b4f731fc8446ba0e46006947ac18a",
       "version_major": 2,
       "version_minor": 0
      },
      "text/plain": [
       "HBox(children=(FloatProgress(value=0.0, bar_style='info', description='Inference', style=ProgressStyle(descrip…"
      ]
     },
     "metadata": {},
     "output_type": "display_data"
    }
   ],
   "source": [
    "#Submit job to the queue\n",
    "job_id_gpu = !qsub gaze_estimation_job.sh -l nodes=1:tank-870:i5-6500te:intel-hd-530 -F \"results/gpu/ GPU FP32 $VIDEO 0.5 \" -N gaze_est_gpu \n",
    "print(job_id_gpu[0]) \n",
    "#Progress indicators\n",
    "if job_id_gpu:\n",
    "    progressIndicator('results/gpu/', 'i_progress_'+job_id_gpu[0]+'.txt', \"Inference\", 0, 100)"
   ]
  },
  {
   "cell_type": "markdown",
   "metadata": {},
   "source": [
    "#### Submitting to an edge compute node with Intel® NCS 2 (Neural Compute Stick 2)\n",
    "In the cell below, write a script to submit a job to an <a \n",
    "    href=\"https://software.intel.com/en-us/iot/hardware/iei-tank-dev-kit-core\">IEI \n",
    "    Tank 870-Q170</a> edge node with an <a href=\"https://ark.intel.com/products/88186/Intel-Core-i5-6500TE-Processor-6M-Cache-up-to-3-30-GHz-\">Intel Core i5-6500te CPU</a>. The inference workload will run on an <a \n",
    "    href=\"https://software.intel.com/en-us/neural-compute-stick\">Intel Neural Compute Stick 2</a> installed in this  node."
   ]
  },
  {
   "cell_type": "code",
   "execution_count": 8,
   "metadata": {},
   "outputs": [
    {
     "name": "stdout",
     "output_type": "stream",
     "text": [
      "5630.v-qsvr-1.devcloud-edge\n"
     ]
    },
    {
     "data": {
      "application/vnd.jupyter.widget-view+json": {
       "model_id": "adb7d8abeff741ffa55e9cadb280a359",
       "version_major": 2,
       "version_minor": 0
      },
      "text/plain": [
       "HBox(children=(FloatProgress(value=0.0, bar_style='info', description='Inference', style=ProgressStyle(descrip…"
      ]
     },
     "metadata": {},
     "output_type": "display_data"
    }
   ],
   "source": [
    "#Submit job to the queue\n",
    "job_id_ncs2 = !qsub gaze_estimation_job.sh -l nodes=1:tank-870:i5-6500te:intel-ncs2 -F \"results/ncs2/ MYRIAD FP16 $VIDEO 0.5\" -N gaze_est_nsc2\n",
    "print(job_id_ncs2[0]) \n",
    "#Progress indicators\n",
    "if job_id_ncs2:\n",
    "    progressIndicator('results/ncs2/', 'i_progress_'+job_id_ncs2[0]+'.txt', \"Inference\", 0, 100)"
   ]
  },
  {
   "cell_type": "markdown",
   "metadata": {},
   "source": [
    "#### Submitting to an edge compute node with IEI Mustang-F100-A10 (Intel® Arria® 10 FPGA)\n",
    "In the cell below, write a script to submit a job to an <a \n",
    "    href=\"https://software.intel.com/en-us/iot/hardware/iei-tank-dev-kit-core\">IEI \n",
    "    Tank 870-Q170</a> edge node with an <a href=\"https://ark.intel.com/products/88186/Intel-Core-i5-6500TE-Processor-6M-Cache-up-to-3-30-GHz-\">Intel Core™ i5-6500te CPU</a> . The inference workload will run on the <a href=\"https://www.ieiworld.com/mustang-f100/en/\"> IEI Mustang-F100-A10 </a> card installed in this node."
   ]
  },
  {
   "cell_type": "code",
   "execution_count": 9,
   "metadata": {},
   "outputs": [
    {
     "name": "stdout",
     "output_type": "stream",
     "text": [
      "5631.v-qsvr-1.devcloud-edge\n"
     ]
    },
    {
     "data": {
      "application/vnd.jupyter.widget-view+json": {
       "model_id": "753c626cc3754af6afa77febbec9e9e2",
       "version_major": 2,
       "version_minor": 0
      },
      "text/plain": [
       "HBox(children=(FloatProgress(value=0.0, bar_style='info', description='Inference', style=ProgressStyle(descrip…"
      ]
     },
     "metadata": {},
     "output_type": "display_data"
    }
   ],
   "source": [
    "#Submit job to the queue\n",
    "job_id_fpga = !qsub gaze_estimation_job.sh -l nodes=1:tank-870:i5-6500te:iei-mustang-f100-a10 -F \"results/fpga/ HETERO:FPGA,CPU FP16 $VIDEO 0.5\" -N gaze_est_fpga\n",
    "print(job_id_fpga[0]) \n",
    "#Progress indicators\n",
    "if job_id_fpga:\n",
    "    progressIndicator('results/fpga/', 'i_progress_'+job_id_fpga[0]+'.txt', \"Inference\", 0, 100)"
   ]
  },
  {
   "cell_type": "code",
   "execution_count": 10,
   "metadata": {},
   "outputs": [
    {
     "data": {
      "application/vnd.jupyter.widget-view+json": {
       "model_id": "9eefee9f7ae3418fb2af7d80301cd165",
       "version_major": 2,
       "version_minor": 0
      },
      "text/plain": [
       "Output(layout=Layout(border='1px solid gray', height='300px', width='100%'))"
      ]
     },
     "metadata": {},
     "output_type": "display_data"
    },
    {
     "data": {
      "application/vnd.jupyter.widget-view+json": {
       "model_id": "6fcc185977284dfbbcd67cc13750bf40",
       "version_major": 2,
       "version_minor": 0
      },
      "text/plain": [
       "Button(description='Stop', style=ButtonStyle())"
      ]
     },
     "metadata": {},
     "output_type": "display_data"
    }
   ],
   "source": [
    "# Enter your command here\n",
    "liveQstat()"
   ]
  },
  {
   "cell_type": "code",
   "execution_count": 12,
   "metadata": {},
   "outputs": [
    {
     "data": {
      "image/png": "[encoded data removed]",
      "text/plain": [
       "<Figure size 1080x576 with 1 Axes>"
      ]
     },
     "metadata": {
      "needs_background": "light"
     },
     "output_type": "display_data"
    },
    {
     "data": {
      "image/png": "[encoded data removed]",
      "text/plain": [
       "<Figure size 1080x576 with 1 Axes>"
      ]
     },
     "metadata": {
      "needs_background": "light"
     },
     "output_type": "display_data"
    }
   ],
   "source": [
    "arch_list = [('core', 'Intel Core\\ni5-6500TE\\nCPU'),\n",
    "             ('gpu', ' Intel Core\\ni5-6500TE\\nGPU'),\n",
    "             ('fpga', 'IEI Mustang\\nF100-A10\\nFPGA'),\n",
    "             ('ncs2', 'Intel\\nNCS2'),\n",
    "             ]\n",
    "\n",
    "stats_list = []\n",
    "for arch, a_name in arch_list:\n",
    "    if 'job_id_'+arch in vars():\n",
    "        stats_list.append(('results/'+arch+'/stats'+'.txt', a_name))\n",
    "    else:\n",
    "        stats_list.append(('placeholder'+arch, a_name))\n",
    "\n",
    "summaryPlot(stats_list, 'Architecture', 'Time, seconds', 'Inference Engine Processing Time', 'time' )\n",
    "\n",
    "summaryPlot(stats_list, 'Architecture', 'Frames per second', 'Inference Engine FPS', 'fps' )"
   ]
  },
  {
   "cell_type": "code",
   "execution_count": null,
   "metadata": {},
   "outputs": [],
   "source": []
  }
 ],
 "metadata": {
  "kernelspec": {
   "display_name": "Python 3 (Ubuntu)",
   "language": "python",
   "name": "c003-python_3"
  },
  "language_info": {
   "codemirror_mode": {
    "name": "ipython",
    "version": 3
   },
   "file_extension": ".py",
   "mimetype": "text/x-python",
   "name": "python",
   "nbconvert_exporter": "python",
   "pygments_lexer": "ipython3",
   "version": "3.6.9"
  }
 },
 "nbformat": 4,
 "nbformat_minor": 2
}
